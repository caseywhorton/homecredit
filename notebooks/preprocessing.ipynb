{
 "cells": [
  {
   "cell_type": "markdown",
   "metadata": {},
   "source": [
    "# Preprocessing\n",
    "\n",
    "1. There are 2 different types of loans:\n",
    "    + Cash Loans\n",
    "    + Revolving Loans\n",
    "2. Occupation type\n",
    "    + ~20 different occupation types\n",
    "3. AMT_ANNUITY\n",
    "    + log transformation\n",
    "4. Amount income total\n",
    "    + Remove outliers \n",
    "5. AMT_CREDIT\n",
    "    + log transformation\n",
    "6. NAME_EDUCATION_TYPE\n",
    "    + ~5 education types\n",
    "7. DAYS_EMPLOYED\n",
    "    + Remove top outliers\n",
    "    + Multiply by negative 1 to make positive\n",
    "    + Bucket\n",
    "        + < 6 months\n",
    "        + 6 months - 1 year\n",
    "        + 1 - 5 years\n",
    "        + 5 - 10 years\n",
    "        + 10 - 20 years\n",
    "        + > 20 years\n",
    "8. EXT_SOURCE_2\n",
    "    + Missing less than 1% of the records\n",
    "    + Already normalized\n",
    "9. FLAG_OWN_CAR\n",
    "    + Treat this like a flag if not null\n",
    "10. REGION_RATING\n",
    "    + One hot encoding\n",
    "11. REGION_RATING_W_CITY\n",
    "    + One hot encoding\n",
    "12. CNT_FAM_MEMBERS\n",
    "    + Recode to 1, 2, 3 and >=4\n",
    "13. OBS_30_CNT_SOCIAL_CIRCLE\n",
    "    + Recode to 0 or >=1\n",
    "14. DEF_30_CNT_SOCIAL_CIRCLE\n",
    "    + Recode to 0 or >=1 \n",
    "15. OBS_60_CNT_SOCIAL_CIRCLE\n",
    "    + Recode to - of >= 1\n",
    "16. DEF_60_CNT_SOCIAL_CIRCLE\n",
    "    + Recode to 0 or >= 1\n",
    "17. AMT_REQ_CREDIT_BUREAU_YEAR\n",
    "    + Recode to 0, 1, 2 or >= 3\n",
    "18. NAME_INCOME_TYPE\n",
    "    + One Hot Encoding\n",
    "19. NAME_FAMILY_STATUS\n",
    "    + One hot encoding\n",
    "20. NAME_HOUSING_TYPE\n",
    "    + One hot encoding\n",
    "21. REGION_POPULATION_RELATIVE\n",
    "    + right skewed\n",
    "22. FLAG_OWN_REALTY\n"
   ]
  },
  {
   "cell_type": "code",
   "execution_count": 2,
   "metadata": {},
   "outputs": [],
   "source": [
    "import pandas as pd\n",
    "import numpy as np\n"
   ]
  },
  {
   "cell_type": "code",
   "execution_count": 5,
   "metadata": {},
   "outputs": [
    {
     "data": {
      "text/plain": [
       "(307511, 122)"
      ]
     },
     "execution_count": 5,
     "metadata": {},
     "output_type": "execute_result"
    }
   ],
   "source": [
    "df = pd.read_csv('../home-credit-default-risk/application_train.csv')\n",
    "df.shape"
   ]
  },
  {
   "cell_type": "code",
   "execution_count": 98,
   "metadata": {},
   "outputs": [],
   "source": [
    "column_set = ['SK_ID_CURR',\n",
    "'TARGET',\n",
    "'NAME_CONTRACT_TYPE',\n",
    "'OCCUPATION_TYPE',\n",
    "'AMT_ANNUITY',\n",
    "'AMT_INCOME_TOTAL',\n",
    "'AMT_CREDIT',\n",
    "'NAME_EDUCATION_TYPE',\n",
    "'DAYS_EMPLOYED',\n",
    "'EXT_SOURCE_2',\n",
    "'FLAG_OWN_CAR',\n",
    "'FLAG_OWN_REALTY',\n",
    "'REGION_RATING_CLIENT',\n",
    "'REGION_RATING_CLIENT_W_CITY',\n",
    "'CNT_FAM_MEMBERS',\n",
    "'OBS_30_CNT_SOCIAL_CIRCLE',\n",
    "'DEF_30_CNT_SOCIAL_CIRCLE',\n",
    "'OBS_60_CNT_SOCIAL_CIRCLE',\n",
    "'DEF_60_CNT_SOCIAL_CIRCLE',\n",
    "'AMT_REQ_CREDIT_BUREAU_YEAR',\n",
    "'NAME_INCOME_TYPE',\n",
    "'NAME_FAMILY_STATUS',\n",
    "'NAME_HOUSING_TYPE',\n",
    "'REGION_POPULATION_RELATIVE'\n",
    "]\n",
    "\n",
    "num_features = ['AMT_ANNUITY',\n",
    "'AMT_INCOME_TOTAL',\n",
    "'AMT_CREDIT',\n",
    "'EXT_SOURCE_2',\n",
    "'REGION_POPULATION_RELATIVE']\n",
    "\n",
    "cat_features = ['OCCUPATION_TYPE',\n",
    "'NAME_EDUCATION_TYPE',\n",
    "'FLAG_OWN_CAR',\n",
    "'FLAG_OWN_REALTY',\n",
    "'REGION_RATING_CLIENT',\n",
    "'REGION_RATING_CLIENT_W_CITY',\n",
    "'CNT_FAM_MEMBERS_BKT',\n",
    "'DAYS_EMPLOYED_BKT',\n",
    "'OBS_30_CNT_SOCIAL_CIRCLE_BKT',\n",
    "'DEF_30_CNT_SOCIAL_CIRCLE_BKT',\n",
    "'OBS_60_CNT_SOCIAL_CIRCLE_BKT',\n",
    "'DEF_60_CNT_SOCIAL_CIRCLE_BKT',\n",
    "'AMT_REQ_CREDIT_BUREAU_YEAR_bkt',\n",
    "'NAME_INCOME_TYPE',\n",
    "'NAME_FAMILY_STATUS',\n",
    "'NAME_HOUSING_TYPE'\n",
    "]\n",
    "\n",
    "pass_features = ['EXT_SOURCE_2','REGION_POPULATION_RELATIVE']"
   ]
  },
  {
   "cell_type": "code",
   "execution_count": 100,
   "metadata": {},
   "outputs": [
    {
     "data": {
      "text/html": [
       "<div>\n",
       "<style scoped>\n",
       "    .dataframe tbody tr th:only-of-type {\n",
       "        vertical-align: middle;\n",
       "    }\n",
       "\n",
       "    .dataframe tbody tr th {\n",
       "        vertical-align: top;\n",
       "    }\n",
       "\n",
       "    .dataframe thead th {\n",
       "        text-align: right;\n",
       "    }\n",
       "</style>\n",
       "<table border=\"1\" class=\"dataframe\">\n",
       "  <thead>\n",
       "    <tr style=\"text-align: right;\">\n",
       "      <th></th>\n",
       "      <th>EXT_SOURCE_2</th>\n",
       "      <th>REGION_POPULATION_RELATIVE</th>\n",
       "    </tr>\n",
       "  </thead>\n",
       "  <tbody>\n",
       "    <tr>\n",
       "      <th>0</th>\n",
       "      <td>0.262949</td>\n",
       "      <td>0.018801</td>\n",
       "    </tr>\n",
       "    <tr>\n",
       "      <th>1</th>\n",
       "      <td>0.622246</td>\n",
       "      <td>0.003541</td>\n",
       "    </tr>\n",
       "    <tr>\n",
       "      <th>2</th>\n",
       "      <td>0.555912</td>\n",
       "      <td>0.010032</td>\n",
       "    </tr>\n",
       "    <tr>\n",
       "      <th>3</th>\n",
       "      <td>0.650442</td>\n",
       "      <td>0.008019</td>\n",
       "    </tr>\n",
       "    <tr>\n",
       "      <th>4</th>\n",
       "      <td>0.322738</td>\n",
       "      <td>0.028663</td>\n",
       "    </tr>\n",
       "    <tr>\n",
       "      <th>...</th>\n",
       "      <td>...</td>\n",
       "      <td>...</td>\n",
       "    </tr>\n",
       "    <tr>\n",
       "      <th>307506</th>\n",
       "      <td>0.681632</td>\n",
       "      <td>0.032561</td>\n",
       "    </tr>\n",
       "    <tr>\n",
       "      <th>307507</th>\n",
       "      <td>0.115992</td>\n",
       "      <td>0.025164</td>\n",
       "    </tr>\n",
       "    <tr>\n",
       "      <th>307508</th>\n",
       "      <td>0.535722</td>\n",
       "      <td>0.005002</td>\n",
       "    </tr>\n",
       "    <tr>\n",
       "      <th>307509</th>\n",
       "      <td>0.514163</td>\n",
       "      <td>0.005313</td>\n",
       "    </tr>\n",
       "    <tr>\n",
       "      <th>307510</th>\n",
       "      <td>0.708569</td>\n",
       "      <td>0.046220</td>\n",
       "    </tr>\n",
       "  </tbody>\n",
       "</table>\n",
       "<p>307511 rows × 2 columns</p>\n",
       "</div>"
      ],
      "text/plain": [
       "        EXT_SOURCE_2  REGION_POPULATION_RELATIVE\n",
       "0           0.262949                    0.018801\n",
       "1           0.622246                    0.003541\n",
       "2           0.555912                    0.010032\n",
       "3           0.650442                    0.008019\n",
       "4           0.322738                    0.028663\n",
       "...              ...                         ...\n",
       "307506      0.681632                    0.032561\n",
       "307507      0.115992                    0.025164\n",
       "307508      0.535722                    0.005002\n",
       "307509      0.514163                    0.005313\n",
       "307510      0.708569                    0.046220\n",
       "\n",
       "[307511 rows x 2 columns]"
      ]
     },
     "execution_count": 100,
     "metadata": {},
     "output_type": "execute_result"
    }
   ],
   "source": [
    "# TO DO\n",
    "# create the _BKT features and add to the dataframe\n",
    "# make a transformation pipeline\n",
    "# numeric features get standardized\n",
    "# categorical features get one hot encoding\n",
    "# pass through features get passed throughs\n",
    "# train a logistic regression model using the dataset\n",
    "# save the transformed dataset to the data directory"
   ]
  },
  {
   "cell_type": "code",
   "execution_count": 83,
   "metadata": {},
   "outputs": [
    {
     "name": "stderr",
     "output_type": "stream",
     "text": [
      "/var/folders/dk/w25w7v256r15pk9pvk88_y780000gn/T/ipykernel_81088/4023069895.py:14: FutureWarning: The default of observed=False is deprecated and will be changed to True in a future version of pandas. Pass observed=False to retain current behavior or observed=True to adopt the future default and silence this warning.\n",
      "  bucket_counts = df.groupby(['OBS_BUCKET', 'TARGET']).size().unstack(fill_value=0)\n"
     ]
    },
    {
     "data": {
      "text/html": [
       "<div>\n",
       "<style scoped>\n",
       "    .dataframe tbody tr th:only-of-type {\n",
       "        vertical-align: middle;\n",
       "    }\n",
       "\n",
       "    .dataframe tbody tr th {\n",
       "        vertical-align: top;\n",
       "    }\n",
       "\n",
       "    .dataframe thead th {\n",
       "        text-align: right;\n",
       "    }\n",
       "</style>\n",
       "<table border=\"1\" class=\"dataframe\">\n",
       "  <thead>\n",
       "    <tr style=\"text-align: right;\">\n",
       "      <th>TARGET</th>\n",
       "      <th>0</th>\n",
       "      <th>1</th>\n",
       "      <th>TOTAL</th>\n",
       "      <th>TARGET_1_RATE</th>\n",
       "      <th>TARGET_1_RATE_PCT</th>\n",
       "    </tr>\n",
       "    <tr>\n",
       "      <th>OBS_BUCKET</th>\n",
       "      <th></th>\n",
       "      <th></th>\n",
       "      <th></th>\n",
       "      <th></th>\n",
       "      <th></th>\n",
       "    </tr>\n",
       "  </thead>\n",
       "  <tbody>\n",
       "    <tr>\n",
       "      <th>0</th>\n",
       "      <td>66678</td>\n",
       "      <td>5123</td>\n",
       "      <td>71801</td>\n",
       "      <td>0.071350</td>\n",
       "      <td>7.13</td>\n",
       "    </tr>\n",
       "    <tr>\n",
       "      <th>1</th>\n",
       "      <td>58755</td>\n",
       "      <td>4650</td>\n",
       "      <td>63405</td>\n",
       "      <td>0.073338</td>\n",
       "      <td>7.33</td>\n",
       "    </tr>\n",
       "    <tr>\n",
       "      <th>2</th>\n",
       "      <td>46124</td>\n",
       "      <td>4068</td>\n",
       "      <td>50192</td>\n",
       "      <td>0.081049</td>\n",
       "      <td>8.10</td>\n",
       "    </tr>\n",
       "    <tr>\n",
       "      <th>3</th>\n",
       "      <td>73902</td>\n",
       "      <td>6692</td>\n",
       "      <td>80594</td>\n",
       "      <td>0.083033</td>\n",
       "      <td>8.30</td>\n",
       "    </tr>\n",
       "  </tbody>\n",
       "</table>\n",
       "</div>"
      ],
      "text/plain": [
       "TARGET          0     1  TOTAL  TARGET_1_RATE  TARGET_1_RATE_PCT\n",
       "OBS_BUCKET                                                      \n",
       "0           66678  5123  71801       0.071350               7.13\n",
       "1           58755  4650  63405       0.073338               7.33\n",
       "2           46124  4068  50192       0.081049               8.10\n",
       "3           73902  6692  80594       0.083033               8.30"
      ]
     },
     "execution_count": 83,
     "metadata": {},
     "output_type": "execute_result"
    }
   ],
   "source": [
    "#df['OBS_30_CNT_SOCIAL_CIRCLE'].value_counts()\n",
    "# Define new bins and labels\n",
    "bins = [0, 1, 2, 3, float('inf')]\n",
    "labels = [\n",
    "    '0',\n",
    "    '1',\n",
    "    '2',\n",
    "    '3',\n",
    "]\n",
    "\n",
    "# Create employment bucket column\n",
    "df['OBS_BUCKET'] = pd.cut(df['AMT_REQ_CREDIT_BUREAU_YEAR'], bins=bins, labels=labels, right=False)\n",
    "# Count TARGET values per bucket\n",
    "bucket_counts = df.groupby(['OBS_BUCKET', 'TARGET']).size().unstack(fill_value=0)\n",
    "bucket_counts['TOTAL'] = bucket_counts.sum(axis=1)\n",
    "bucket_counts['TARGET_1_RATE'] = bucket_counts[1] / bucket_counts['TOTAL']\n",
    "\n",
    "bucket_counts['TARGET_1_RATE_PCT'] = (bucket_counts['TARGET_1_RATE'] * 100).round(2)\n",
    "\n",
    "bucket_counts"
   ]
  },
  {
   "cell_type": "code",
   "execution_count": 43,
   "metadata": {},
   "outputs": [
    {
     "data": {
      "text/plain": [
       "np.float64(0.0021462646864665006)"
      ]
     },
     "execution_count": 43,
     "metadata": {},
     "output_type": "execute_result"
    }
   ],
   "source": [
    "#df['EXT_SOURCE_1'].isna().sum()/len(df)\n",
    "df['EXT_SOURCE_2'].isna().sum()/len(df)\n",
    "#df['EXT_SOURCE_3'].isna().sum()/len(df)"
   ]
  },
  {
   "cell_type": "code",
   "execution_count": 29,
   "metadata": {},
   "outputs": [
    {
     "data": {
      "text/plain": [
       "np.int64(202929)"
      ]
     },
     "execution_count": 29,
     "metadata": {},
     "output_type": "execute_result"
    }
   ],
   "source": [
    "df['OWN_CAR_AGE'].notna().sum() \n",
    "df['OWN_CAR_AGE'].isna().sum()"
   ]
  },
  {
   "cell_type": "code",
   "execution_count": 54,
   "metadata": {},
   "outputs": [
    {
     "name": "stdout",
     "output_type": "stream",
     "text": [
      "TARGET                 0     1  TOTAL  TARGET_1_RATE  TARGET_1_RATE_PCT\n",
      "EMPLOYMENT_BUCKET                                                      \n",
      "< 0.5 years         8718  1034   9752       0.106030              10.60\n",
      "0.5 - 1 year       16121  2031  18152       0.111888              11.19\n",
      "1 - 2 years        28210  3631  31841       0.114035              11.40\n",
      "2 - 5 years        68813  7709  76522       0.100742              10.07\n",
      "5 - 10 years       60105  4785  64890       0.073740               7.37\n",
      "10 - 20 years      36303  2119  38422       0.055151               5.52\n",
      "20 - 30 years       9123   429   9552       0.044912               4.49\n",
      "> 30 years         55293  3087  58380       0.052878               5.29\n"
     ]
    },
    {
     "name": "stderr",
     "output_type": "stream",
     "text": [
      "/var/folders/dk/w25w7v256r15pk9pvk88_y780000gn/T/ipykernel_30112/3670023734.py:23: FutureWarning: The default of observed=False is deprecated and will be changed to True in a future version of pandas. Pass observed=False to retain current behavior or observed=True to adopt the future default and silence this warning.\n",
      "  bucket_counts = df.groupby(['EMPLOYMENT_BUCKET', 'TARGET']).size().unstack(fill_value=0)\n"
     ]
    }
   ],
   "source": [
    "import pandas as pd\n",
    "\n",
    "# Convert DAYS_EMPLOYED to absolute years\n",
    "df['YEARS_EMPLOYED'] = df['DAYS_EMPLOYED'].abs() / 365\n",
    "\n",
    "# Define new bins and labels\n",
    "bins = [0, 0.5, 1, 2, 5, 10, 20, 30, float('inf')]\n",
    "labels = [\n",
    "    '< 0.5 years',\n",
    "    '0.5 - 1 year',\n",
    "    '1 - 2 years',\n",
    "    '2 - 5 years',\n",
    "    '5 - 10 years',\n",
    "    '10 - 20 years',\n",
    "    '20 - 30 years',\n",
    "    '> 30 years'\n",
    "]\n",
    "\n",
    "# Create employment bucket column\n",
    "df['EMPLOYMENT_BUCKET'] = pd.cut(df['YEARS_EMPLOYED'], bins=bins, labels=labels, right=False)\n",
    "\n",
    "# Count TARGET values per bucket\n",
    "bucket_counts = df.groupby(['EMPLOYMENT_BUCKET', 'TARGET']).size().unstack(fill_value=0)\n",
    "\n",
    "# Add total column\n",
    "bucket_counts['TOTAL'] = bucket_counts.sum(axis=1)\n",
    "\n",
    "# Calculate TARGET = 1 rate\n",
    "bucket_counts['TARGET_1_RATE'] = bucket_counts[1] / bucket_counts['TOTAL']\n",
    "\n",
    "# Optional: format as percentage\n",
    "bucket_counts['TARGET_1_RATE_PCT'] = (bucket_counts['TARGET_1_RATE'] * 100).round(2)\n",
    "\n",
    "print(bucket_counts)\n"
   ]
  },
  {
   "cell_type": "code",
   "execution_count": 50,
   "metadata": {},
   "outputs": [
    {
     "data": {
      "image/png": "[encoded data removed]",
      "text/plain": [
       "<Figure size 800x500 with 1 Axes>"
      ]
     },
     "metadata": {},
     "output_type": "display_data"
    }
   ],
   "source": [
    "import matplotlib.pyplot as plt\n",
    "import pandas as pd\n",
    "\n",
    "# Calculate IQR\n",
    "Q1 = df['DAYS_EMPLOYED'].quantile(0.25)\n",
    "Q3 = df['DAYS_EMPLOYED'].quantile(0.75)\n",
    "IQR = Q3 - Q1\n",
    "\n",
    "# Define bounds for outliers\n",
    "lower_bound = Q1 - 1.5 * IQR\n",
    "upper_bound = Q3 + 1.5 * IQR\n",
    "\n",
    "# Filter out outliers\n",
    "df_filtered = df[(df['DAYS_EMPLOYED'] <= upper_bound)]\n",
    "\n",
    "# Plot histogram\n",
    "plt.figure(figsize=(8, 5))\n",
    "plt.hist((df_filtered['DAYS_EMPLOYED'])*-1, bins=50, edgecolor='black')\n",
    "\n",
    "plt.title('Distribution of DAYS_EMPLOYED (Outliers Removed)')\n",
    "plt.xlabel('Income Amount')\n",
    "plt.ylabel('Frequency')\n",
    "\n",
    "plt.show()\n"
   ]
  },
  {
   "cell_type": "code",
   "execution_count": 42,
   "metadata": {},
   "outputs": [
    {
     "data": {
      "image/png": "[encoded data removed]",
      "text/plain": [
       "<Figure size 500x300 with 1 Axes>"
      ]
     },
     "metadata": {},
     "output_type": "display_data"
    }
   ],
   "source": [
    "import matplotlib.pyplot as plt\n",
    "import pandas as pd\n",
    "\n",
    "\n",
    "# Plot histogram\n",
    "plt.figure(figsize=(5, 3))\n",
    "plt.hist(np.log(df['AMT_ANNUITY']), bins=50, edgecolor='black')\n",
    "\n",
    "plt.title('Distribution of log(AMT_ANNUITY)')\n",
    "plt.xlabel('Annuity Amount')\n",
    "plt.ylabel('Frequency')\n",
    "\n",
    "plt.show()\n"
   ]
  },
  {
   "cell_type": "code",
   "execution_count": 37,
   "metadata": {},
   "outputs": [
    {
     "data": {
      "text/plain": [
       "NAME_EDUCATION_TYPE\n",
       "Secondary / secondary special    218391\n",
       "Higher education                  74863\n",
       "Incomplete higher                 10277\n",
       "Lower secondary                    3816\n",
       "Academic degree                     164\n",
       "Name: count, dtype: int64"
      ]
     },
     "execution_count": 37,
     "metadata": {},
     "output_type": "execute_result"
    }
   ],
   "source": [
    "df['NAME_EDUCATION_TYPE'].value_counts()"
   ]
  },
  {
   "cell_type": "code",
   "execution_count": null,
   "metadata": {},
   "outputs": [],
   "source": [
    "import matplotlib.pyplot as plt\n",
    "import pandas as pd\n",
    "\n",
    "\n",
    "# Plot histogram\n",
    "plt.figure(figsize=(5, 3))\n",
    "plt.hist(np.log(df['AMT_ANNUITY']), bins=50, edgecolor='black')\n",
    "\n",
    "plt.title('Distribution of log(AMT_ANNUITY)')\n",
    "plt.xlabel('Annuity Amount')\n",
    "plt.ylabel('Frequency')\n",
    "\n",
    "plt.show()\n"
   ]
  },
  {
   "cell_type": "code",
   "execution_count": null,
   "metadata": {},
   "outputs": [
    {
     "data": {
      "image/png": "[encoded data removed]",
      "text/plain": [
       "<Figure size 500x300 with 1 Axes>"
      ]
     },
     "metadata": {},
     "output_type": "display_data"
    }
   ],
   "source": [
    "import matplotlib.pyplot as plt\n",
    "import pandas as pd\n",
    "\n",
    "# Plot histogram\n",
    "plt.figure(figsize=(5, 3))\n",
    "plt.hist(np.log(df['AMT_CREDIT']), bins=50, edgecolor='black')\n",
    "\n",
    "plt.title('Distribution of log(AMT_CREDIT)')\n",
    "plt.xlabel('Annuity Amount')\n",
    "plt.ylabel('Frequency')\n",
    "\n",
    "plt.show()\n"
   ]
  },
  {
   "cell_type": "code",
   "execution_count": 34,
   "metadata": {},
   "outputs": [
    {
     "data": {
      "text/plain": [
       "OCCUPATION_TYPE\n",
       "Laborers                 55186\n",
       "Sales staff              32102\n",
       "Core staff               27570\n",
       "Managers                 21371\n",
       "Drivers                  18603\n",
       "High skill tech staff    11380\n",
       "Accountants               9813\n",
       "Medicine staff            8537\n",
       "Security staff            6721\n",
       "Cooking staff             5946\n",
       "Cleaning staff            4653\n",
       "Private service staff     2652\n",
       "Low-skill Laborers        2093\n",
       "Waiters/barmen staff      1348\n",
       "Secretaries               1305\n",
       "Realty agents              751\n",
       "HR staff                   563\n",
       "IT staff                   526\n",
       "Name: count, dtype: int64"
      ]
     },
     "execution_count": 34,
     "metadata": {},
     "output_type": "execute_result"
    }
   ],
   "source": [
    "df['OCCUPATION_TYPE'].value_counts()"
   ]
  },
  {
   "cell_type": "code",
   "execution_count": 26,
   "metadata": {},
   "outputs": [
    {
     "data": {
      "image/png": "[encoded data removed]",
      "text/plain": [
       "<Figure size 800x500 with 1 Axes>"
      ]
     },
     "metadata": {},
     "output_type": "display_data"
    }
   ],
   "source": [
    "import matplotlib.pyplot as plt\n",
    "import pandas as pd\n",
    "\n",
    "# Calculate IQR\n",
    "Q1 = df['AMT_INCOME_TOTAL'].quantile(0.25)\n",
    "Q3 = df['AMT_INCOME_TOTAL'].quantile(0.75)\n",
    "IQR = Q3 - Q1\n",
    "\n",
    "# Define bounds for outliers\n",
    "lower_bound = Q1 - 1.5 * IQR\n",
    "upper_bound = Q3 + 1.5 * IQR\n",
    "\n",
    "# Filter out outliers\n",
    "df_filtered = df[(df['AMT_INCOME_TOTAL'] >= lower_bound) & (df['AMT_INCOME_TOTAL'] <= upper_bound)]\n",
    "\n",
    "# Plot histogram\n",
    "plt.figure(figsize=(8, 5))\n",
    "plt.hist(df_filtered['AMT_INCOME_TOTAL'], bins=50, edgecolor='black')\n",
    "\n",
    "plt.title('Distribution of AMT_INCOME_TOTAL (Outliers Removed)')\n",
    "plt.xlabel('Income Amount')\n",
    "plt.ylabel('Frequency')\n",
    "\n",
    "plt.show()\n"
   ]
  },
  {
   "cell_type": "code",
   "execution_count": 17,
   "metadata": {},
   "outputs": [
    {
     "data": {
      "text/html": [
       "<div>\n",
       "<style scoped>\n",
       "    .dataframe tbody tr th:only-of-type {\n",
       "        vertical-align: middle;\n",
       "    }\n",
       "\n",
       "    .dataframe tbody tr th {\n",
       "        vertical-align: top;\n",
       "    }\n",
       "\n",
       "    .dataframe thead th {\n",
       "        text-align: right;\n",
       "    }\n",
       "</style>\n",
       "<table border=\"1\" class=\"dataframe\">\n",
       "  <thead>\n",
       "    <tr style=\"text-align: right;\">\n",
       "      <th></th>\n",
       "      <th>NAME_CONTRACT_TYPE</th>\n",
       "      <th>TARGET</th>\n",
       "      <th>count</th>\n",
       "      <th>ratio_within_target</th>\n",
       "    </tr>\n",
       "  </thead>\n",
       "  <tbody>\n",
       "    <tr>\n",
       "      <th>0</th>\n",
       "      <td>Cash loans</td>\n",
       "      <td>0</td>\n",
       "      <td>255011</td>\n",
       "      <td>0.902100</td>\n",
       "    </tr>\n",
       "    <tr>\n",
       "      <th>1</th>\n",
       "      <td>Revolving loans</td>\n",
       "      <td>0</td>\n",
       "      <td>27675</td>\n",
       "      <td>0.097900</td>\n",
       "    </tr>\n",
       "    <tr>\n",
       "      <th>2</th>\n",
       "      <td>Cash loans</td>\n",
       "      <td>1</td>\n",
       "      <td>23221</td>\n",
       "      <td>0.935388</td>\n",
       "    </tr>\n",
       "    <tr>\n",
       "      <th>3</th>\n",
       "      <td>Revolving loans</td>\n",
       "      <td>1</td>\n",
       "      <td>1604</td>\n",
       "      <td>0.064612</td>\n",
       "    </tr>\n",
       "  </tbody>\n",
       "</table>\n",
       "</div>"
      ],
      "text/plain": [
       "  NAME_CONTRACT_TYPE  TARGET   count  ratio_within_target\n",
       "0         Cash loans       0  255011             0.902100\n",
       "1    Revolving loans       0   27675             0.097900\n",
       "2         Cash loans       1   23221             0.935388\n",
       "3    Revolving loans       1    1604             0.064612"
      ]
     },
     "execution_count": 17,
     "metadata": {},
     "output_type": "execute_result"
    }
   ],
   "source": [
    "sums= df[['NAME_CONTRACT_TYPE','TARGET']].value_counts().reset_index().groupby(\"TARGET\")[\"count\"].transform(\"sum\")\n",
    "\n",
    "_df = df[['NAME_CONTRACT_TYPE','TARGET']].value_counts().reset_index()\n",
    "\n",
    "_df['ratio_within_target'] = _df['count']/sums\n",
    "# Compute total count per TARGET\n",
    "#totals = df.groupby(\"TARGET\")[\"count\"].transform(\"sum\")\n",
    "_df\n",
    "# Compute ratio within each TARGET group\n",
    "#df[\"ratio_within_target\"] = df[\"count\"] / totals\n"
   ]
  },
  {
   "cell_type": "code",
   "execution_count": 19,
   "metadata": {},
   "outputs": [
    {
     "data": {
      "text/html": [
       "<div>\n",
       "<style scoped>\n",
       "    .dataframe tbody tr th:only-of-type {\n",
       "        vertical-align: middle;\n",
       "    }\n",
       "\n",
       "    .dataframe tbody tr th {\n",
       "        vertical-align: top;\n",
       "    }\n",
       "\n",
       "    .dataframe thead th {\n",
       "        text-align: right;\n",
       "    }\n",
       "</style>\n",
       "<table border=\"1\" class=\"dataframe\">\n",
       "  <thead>\n",
       "    <tr style=\"text-align: right;\">\n",
       "      <th></th>\n",
       "      <th>NAME_CONTRACT_TYPE</th>\n",
       "      <th>TARGET</th>\n",
       "      <th>count</th>\n",
       "      <th>ratio_within_contract</th>\n",
       "    </tr>\n",
       "  </thead>\n",
       "  <tbody>\n",
       "    <tr>\n",
       "      <th>0</th>\n",
       "      <td>Cash loans</td>\n",
       "      <td>0</td>\n",
       "      <td>255011</td>\n",
       "      <td>0.916541</td>\n",
       "    </tr>\n",
       "    <tr>\n",
       "      <th>2</th>\n",
       "      <td>Cash loans</td>\n",
       "      <td>1</td>\n",
       "      <td>23221</td>\n",
       "      <td>0.083459</td>\n",
       "    </tr>\n",
       "    <tr>\n",
       "      <th>1</th>\n",
       "      <td>Revolving loans</td>\n",
       "      <td>0</td>\n",
       "      <td>27675</td>\n",
       "      <td>0.945217</td>\n",
       "    </tr>\n",
       "    <tr>\n",
       "      <th>3</th>\n",
       "      <td>Revolving loans</td>\n",
       "      <td>1</td>\n",
       "      <td>1604</td>\n",
       "      <td>0.054783</td>\n",
       "    </tr>\n",
       "  </tbody>\n",
       "</table>\n",
       "</div>"
      ],
      "text/plain": [
       "  NAME_CONTRACT_TYPE  TARGET   count  ratio_within_contract\n",
       "0         Cash loans       0  255011               0.916541\n",
       "2         Cash loans       1   23221               0.083459\n",
       "1    Revolving loans       0   27675               0.945217\n",
       "3    Revolving loans       1    1604               0.054783"
      ]
     },
     "execution_count": 19,
     "metadata": {},
     "output_type": "execute_result"
    }
   ],
   "source": [
    "sums= df[['NAME_CONTRACT_TYPE','TARGET']].value_counts().reset_index().groupby(\"NAME_CONTRACT_TYPE\")[\"count\"].transform(\"sum\")\n",
    "\n",
    "_df = df[['NAME_CONTRACT_TYPE','TARGET']].value_counts().reset_index()\n",
    "\n",
    "_df['ratio_within_contract'] = _df['count']/sums\n",
    "# Compute total count per TARGET\n",
    "#totals = df.groupby(\"TARGET\")[\"count\"].transform(\"sum\")\n",
    "_df.sort_values('NAME_CONTRACT_TYPE')\n",
    "# Compute ratio within each TARGET group\n",
    "#df[\"ratio_within_target\"] = df[\"count\"] / totals\n"
   ]
  },
  {
   "cell_type": "code",
   "execution_count": null,
   "metadata": {},
   "outputs": [],
   "source": []
  }
 ],
 "metadata": {
  "kernelspec": {
   "display_name": "Python 3",
   "language": "python",
   "name": "python3"
  },
  "language_info": {
   "codemirror_mode": {
    "name": "ipython",
    "version": 3
   },
   "file_extension": ".py",
   "mimetype": "text/x-python",
   "name": "python",
   "nbconvert_exporter": "python",
   "pygments_lexer": "ipython3",
   "version": "3.13.2"
  }
 },
 "nbformat": 4,
 "nbformat_minor": 2
}
